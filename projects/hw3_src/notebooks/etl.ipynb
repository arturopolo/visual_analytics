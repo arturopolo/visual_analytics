{
 "cells": [
  {
   "cell_type": "code",
   "execution_count": null,
   "metadata": {},
   "outputs": [],
   "source": [
    "import requests\n",
    "from requests.auth import HTTPBasicAuth\n",
    "import json\n",
    "import time\n",
    "import itertools\n",
    "import numpy as np\n",
    "import pandas as pd"
   ]
  },
  {
   "cell_type": "code",
   "execution_count": null,
   "metadata": {},
   "outputs": [],
   "source": [
    "def grab_issues(page):\n",
    "    return requests.get(\"https://api.github.com/repos/rust-lang/rust/issues\", params={\n",
    "        \"state\": \"all\",\n",
    "        \"filter\": \"all\",\n",
    "        \"per_page\": 100,\n",
    "        \"page\": page\n",
    "    }, auth=HTTPBasicAuth(\"user\", \"password\"))"
   ]
  },
  {
   "cell_type": "code",
   "execution_count": null,
   "metadata": {},
   "outputs": [],
   "source": [
    "docs = []"
   ]
  },
  {
   "cell_type": "code",
   "execution_count": null,
   "metadata": {},
   "outputs": [],
   "source": [
    "i = 0\n",
    "while True:\n",
    "    request = grab_issues(i)\n",
    "    if request.ok:\n",
    "        if len(request.text) < 10:\n",
    "            print(\"Done\")\n",
    "            break\n",
    "        docs.append(request.text)\n",
    "        print(i, \"Sucessful\")\n",
    "    else:\n",
    "        print(i, \"Failed\")\n",
    "        break\n",
    "    i += 1"
   ]
  },
  {
   "cell_type": "code",
   "execution_count": null,
   "metadata": {},
   "outputs": [],
   "source": [
    "docs = [json.loads(x) for x in docs]"
   ]
  },
  {
   "cell_type": "code",
   "execution_count": null,
   "metadata": {},
   "outputs": [],
   "source": [
    "issues = []\n",
    "for x in docs:\n",
    "    issues += x"
   ]
  },
  {
   "cell_type": "code",
   "execution_count": null,
   "metadata": {},
   "outputs": [],
   "source": [
    "labels = []\n",
    "ids = []\n",
    "for issue in issues:\n",
    "    if issue[\"id\"] not in ids:\n",
    "        ids.append(issue[\"id\"])\n",
    "        labels.append([x['name'] for x in issue['labels']])"
   ]
  },
  {
   "cell_type": "code",
   "execution_count": null,
   "metadata": {},
   "outputs": [],
   "source": [
    "pairs = []\n",
    "for x in labels:\n",
    "    pairs += [tuple(sorted(list(y))) for y in itertools.combinations_with_replacement(x, 2)]\n",
    "pairs.sort()"
   ]
  },
  {
   "cell_type": "code",
   "execution_count": null,
   "metadata": {},
   "outputs": [],
   "source": [
    "counts = dict((key, sum(1 for _ in group)) for key, group in itertools.groupby(pairs))"
   ]
  },
  {
   "cell_type": "code",
   "execution_count": null,
   "metadata": {
    "scrolled": true
   },
   "outputs": [],
   "source": [
    "sims = dict((key, count / (counts[(key[0], key[0])] + counts[(key[1], key[1])] - count)) for key, count in counts.items()) "
   ]
  },
  {
   "cell_type": "code",
   "execution_count": null,
   "metadata": {},
   "outputs": [],
   "source": [
    "df_counts = pd.DataFrame({\n",
    "    \"source\": [x[0] for x in counts],\n",
    "    \"target\": [x[1] for x in counts],\n",
    "    \"value\": [x for x in counts.values()]\n",
    "})\n",
    "df_counts.to_csv(\"../../hw3/data/counts.csv\", index=False)"
   ]
  },
  {
   "cell_type": "code",
   "execution_count": null,
   "metadata": {},
   "outputs": [],
   "source": [
    "df_sims = pd.DataFrame({\n",
    "    \"source\": [x[0] for x in sims],\n",
    "    \"target\": [x[1] for x in sims],\n",
    "    \"value\": [x for x in sims.values()]\n",
    "})\n",
    "df_sims.to_csv(\"../../hw3/data/sims.csv\", index=False)"
   ]
  },
  {
   "cell_type": "code",
   "execution_count": null,
   "metadata": {},
   "outputs": [],
   "source": [
    "df_triage = pd.DataFrame(np.union1d(df_sims[\"source\"], df_sims[\"target\"]), columns=[\"id\"])\n",
    "df_triage[\"group\"] = df_triage[\"id\"].str.split(\"-\", 1).map(lambda x: x[0])\n",
    "df_triage[\"group\"][df_triage[\"group\"].str.len() > 2] = \"None\"\n",
    "df_triage.to_csv(\"../../hw3/data/triage.csv\", index=False)"
   ]
  },
  {
   "cell_type": "code",
   "execution_count": null,
   "metadata": {},
   "outputs": [],
   "source": [
    "df_counts = pd.read_csv(\"../../hw3/data/counts.csv\").query(\"source != target\")\n",
    "df_triage = pd.read_csv(\"../../hw3/data/triage.csv\")\n",
    "df_triage = df_triage[np.isin(df_triage[\"id\"], df_counts[\"source\"]) | np.isin(df_triage[\"id\"], df_counts[\"target\"])]\n",
    "with open(\"../../hw3/data/graph.json\", \"w\") as file:\n",
    "    json.dump({\n",
    "        \"nodes\": json.loads(df_triage.to_json(orient=\"records\")),\n",
    "        \"links\": json.loads(df_counts.to_json(orient=\"records\"))\n",
    "    }, file)"
   ]
  }
 ],
 "metadata": {
  "kernelspec": {
   "display_name": "Python 3",
   "language": "python",
   "name": "python3"
  },
  "language_info": {
   "codemirror_mode": {
    "name": "ipython",
    "version": 3
   },
   "file_extension": ".py",
   "mimetype": "text/x-python",
   "name": "python",
   "nbconvert_exporter": "python",
   "pygments_lexer": "ipython3",
   "version": "3.5.4"
  }
 },
 "nbformat": 4,
 "nbformat_minor": 2
}
